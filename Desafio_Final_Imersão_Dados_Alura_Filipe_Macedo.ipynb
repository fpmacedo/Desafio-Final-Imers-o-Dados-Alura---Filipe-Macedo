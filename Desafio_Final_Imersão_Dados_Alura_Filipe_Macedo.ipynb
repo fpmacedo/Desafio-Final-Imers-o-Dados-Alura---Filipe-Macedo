{
  "nbformat": 4,
  "nbformat_minor": 0,
  "metadata": {
    "colab": {
      "name": "Desafio Final Imersão Dados Alura - Filipe Macedo.ipynb",
      "provenance": [],
      "collapsed_sections": [],
      "toc_visible": true,
      "authorship_tag": "ABX9TyNswI568BezajFz10Q/zGtu",
      "include_colab_link": true
    },
    "kernelspec": {
      "name": "python3",
      "display_name": "Python 3"
    }
  },
  "cells": [
    {
      "cell_type": "markdown",
      "metadata": {
        "id": "view-in-github",
        "colab_type": "text"
      },
      "source": [
        "<a href=\"https://colab.research.google.com/github/fpmacedo/Desafio-Final-Imers-o-Dados-Alura---Filipe-Macedo/blob/main/Desafio_Final_Imers%C3%A3o_Dados_Alura_Filipe_Macedo.ipynb\" target=\"_parent\"><img src=\"https://colab.research.google.com/assets/colab-badge.svg\" alt=\"Open In Colab\"/></a>"
      ]
    },
    {
      "cell_type": "markdown",
      "metadata": {
        "id": "XqS6P4fUTleg"
      },
      "source": [
        "\n",
        "# Análise de microdados do Enem: Diferenças de rendimento entre alunos de escolas públicas e privadas para alunos finalizando o ensino medio em 2019.\n",
        "\n",
        "\n",
        "---\n",
        "### Autor: Filipe Chaves de Macedo\n",
        "\n",
        "### Objetivo:\n",
        "\n",
        "  O objetivo deste estudo é apresentar uma análise relatando as possíveis diferenças de rendimento dos alunos que são de escolas particulares e os que são de escolas públicas, serão considerados apenas alunos que estão finalizando o ensino médio no ano de 2019, para que fatores como idade avançada ou até mesmo esquecimento de conteúdo devido ter terminado o ensino médio há muito tempo ou mesmo ainda não ter visto algum conteúdo devido a estar em anos anteriores ao de finalização do ensino médio, também serão avaliados somente alunos que realizaram todas as provas.\n",
        "\n",
        "### Método:\n",
        "\n",
        "Será realizada uma análise exploratório tentando identificar e evidenciar as possíveis diferenças e posteriormente os fatores que podem influenciar nesses resultados. Enfim serão avaliados modelos classificadores para que a partir das notas dos alunos possamos classifica-los entre egressos de escola particular ou públicas.\n"
      ]
    },
    {
      "cell_type": "markdown",
      "metadata": {
        "id": "WKC4ab6PWUtl"
      },
      "source": [
        "## Análise exploratória\n",
        "\n",
        "  Inicialmente serão utilizados os dados disponibilizados em: https://github.com/alura-cursos/imersao-dados-2-2020/blob/master/MICRODADOS_ENEM_2019_SAMPLE_43278.csv, para agilizar o tempo de processamento inicial, posteriormente os modelos serão treinados e avaliados com a base de dados completa contida em http://inep.gov.br/web/guest/microdados.\n",
        "\n",
        "  O que se deseja demonstrar com esses modelos é que, caso os dados de fato apresentem uma diferença significativa nos resultados obtidos por alunos de escolas públicas e privadas, essas diferenças se refletirão no poder de classificação dos modelos treinados a partir desses dados."
      ]
    },
    {
      "cell_type": "code",
      "metadata": {
        "id": "Xpcm0b28xUo1"
      },
      "source": [
        "# Carregamos as bibliotecas que serão utilizadas para manipulação e visualização dos dados\n",
        "import numpy as np\n",
        "import pandas as pd\n",
        "import matplotlib.pyplot as plt\n",
        "import seaborn as sns"
      ],
      "execution_count": null,
      "outputs": []
    },
    {
      "cell_type": "code",
      "metadata": {
        "id": "JewuRbCaQiJb",
        "outputId": "d51ce732-40cb-40d2-c3c3-a5372e704c1c",
        "colab": {
          "base_uri": "https://localhost:8080/",
          "height": 253
        }
      },
      "source": [
        "# Importando dados do csv para pandas e visualizando o cabeçalho\n",
        "\n",
        "fonte = \"https://github.com/alura-cursos/imersao-dados-2-2020/blob/master/MICRODADOS_ENEM_2019_SAMPLE_43278.csv?raw=true\"\n",
        "\n",
        "dados = pd.read_csv(fonte)\n",
        "dados.head()"
      ],
      "execution_count": null,
      "outputs": [
        {
          "output_type": "execute_result",
          "data": {
            "text/html": [
              "<div>\n",
              "<style scoped>\n",
              "    .dataframe tbody tr th:only-of-type {\n",
              "        vertical-align: middle;\n",
              "    }\n",
              "\n",
              "    .dataframe tbody tr th {\n",
              "        vertical-align: top;\n",
              "    }\n",
              "\n",
              "    .dataframe thead th {\n",
              "        text-align: right;\n",
              "    }\n",
              "</style>\n",
              "<table border=\"1\" class=\"dataframe\">\n",
              "  <thead>\n",
              "    <tr style=\"text-align: right;\">\n",
              "      <th></th>\n",
              "      <th>NU_INSCRICAO</th>\n",
              "      <th>NU_ANO</th>\n",
              "      <th>CO_MUNICIPIO_RESIDENCIA</th>\n",
              "      <th>NO_MUNICIPIO_RESIDENCIA</th>\n",
              "      <th>CO_UF_RESIDENCIA</th>\n",
              "      <th>SG_UF_RESIDENCIA</th>\n",
              "      <th>NU_IDADE</th>\n",
              "      <th>TP_SEXO</th>\n",
              "      <th>TP_ESTADO_CIVIL</th>\n",
              "      <th>TP_COR_RACA</th>\n",
              "      <th>TP_NACIONALIDADE</th>\n",
              "      <th>CO_MUNICIPIO_NASCIMENTO</th>\n",
              "      <th>NO_MUNICIPIO_NASCIMENTO</th>\n",
              "      <th>CO_UF_NASCIMENTO</th>\n",
              "      <th>SG_UF_NASCIMENTO</th>\n",
              "      <th>TP_ST_CONCLUSAO</th>\n",
              "      <th>TP_ANO_CONCLUIU</th>\n",
              "      <th>TP_ESCOLA</th>\n",
              "      <th>TP_ENSINO</th>\n",
              "      <th>IN_TREINEIRO</th>\n",
              "      <th>CO_ESCOLA</th>\n",
              "      <th>CO_MUNICIPIO_ESC</th>\n",
              "      <th>NO_MUNICIPIO_ESC</th>\n",
              "      <th>CO_UF_ESC</th>\n",
              "      <th>SG_UF_ESC</th>\n",
              "      <th>TP_DEPENDENCIA_ADM_ESC</th>\n",
              "      <th>TP_LOCALIZACAO_ESC</th>\n",
              "      <th>TP_SIT_FUNC_ESC</th>\n",
              "      <th>IN_BAIXA_VISAO</th>\n",
              "      <th>IN_CEGUEIRA</th>\n",
              "      <th>IN_SURDEZ</th>\n",
              "      <th>IN_DEFICIENCIA_AUDITIVA</th>\n",
              "      <th>IN_SURDO_CEGUEIRA</th>\n",
              "      <th>IN_DEFICIENCIA_FISICA</th>\n",
              "      <th>IN_DEFICIENCIA_MENTAL</th>\n",
              "      <th>IN_DEFICIT_ATENCAO</th>\n",
              "      <th>IN_DISLEXIA</th>\n",
              "      <th>IN_DISCALCULIA</th>\n",
              "      <th>IN_AUTISMO</th>\n",
              "      <th>IN_VISAO_MONOCULAR</th>\n",
              "      <th>...</th>\n",
              "      <th>TX_RESPOSTAS_CH</th>\n",
              "      <th>TX_RESPOSTAS_LC</th>\n",
              "      <th>TX_RESPOSTAS_MT</th>\n",
              "      <th>TP_LINGUA</th>\n",
              "      <th>TX_GABARITO_CN</th>\n",
              "      <th>TX_GABARITO_CH</th>\n",
              "      <th>TX_GABARITO_LC</th>\n",
              "      <th>TX_GABARITO_MT</th>\n",
              "      <th>TP_STATUS_REDACAO</th>\n",
              "      <th>NU_NOTA_COMP1</th>\n",
              "      <th>NU_NOTA_COMP2</th>\n",
              "      <th>NU_NOTA_COMP3</th>\n",
              "      <th>NU_NOTA_COMP4</th>\n",
              "      <th>NU_NOTA_COMP5</th>\n",
              "      <th>NU_NOTA_REDACAO</th>\n",
              "      <th>Q001</th>\n",
              "      <th>Q002</th>\n",
              "      <th>Q003</th>\n",
              "      <th>Q004</th>\n",
              "      <th>Q005</th>\n",
              "      <th>Q006</th>\n",
              "      <th>Q007</th>\n",
              "      <th>Q008</th>\n",
              "      <th>Q009</th>\n",
              "      <th>Q010</th>\n",
              "      <th>Q011</th>\n",
              "      <th>Q012</th>\n",
              "      <th>Q013</th>\n",
              "      <th>Q014</th>\n",
              "      <th>Q015</th>\n",
              "      <th>Q016</th>\n",
              "      <th>Q017</th>\n",
              "      <th>Q018</th>\n",
              "      <th>Q019</th>\n",
              "      <th>Q020</th>\n",
              "      <th>Q021</th>\n",
              "      <th>Q022</th>\n",
              "      <th>Q023</th>\n",
              "      <th>Q024</th>\n",
              "      <th>Q025</th>\n",
              "    </tr>\n",
              "  </thead>\n",
              "  <tbody>\n",
              "    <tr>\n",
              "      <th>0</th>\n",
              "      <td>190001004661</td>\n",
              "      <td>2019</td>\n",
              "      <td>1506138</td>\n",
              "      <td>Redenção</td>\n",
              "      <td>15</td>\n",
              "      <td>PA</td>\n",
              "      <td>17</td>\n",
              "      <td>M</td>\n",
              "      <td>1</td>\n",
              "      <td>3</td>\n",
              "      <td>1</td>\n",
              "      <td>1506138.0</td>\n",
              "      <td>Redenção</td>\n",
              "      <td>15.0</td>\n",
              "      <td>PA</td>\n",
              "      <td>3</td>\n",
              "      <td>0</td>\n",
              "      <td>1</td>\n",
              "      <td>NaN</td>\n",
              "      <td>1</td>\n",
              "      <td>NaN</td>\n",
              "      <td>NaN</td>\n",
              "      <td>NaN</td>\n",
              "      <td>NaN</td>\n",
              "      <td>NaN</td>\n",
              "      <td>NaN</td>\n",
              "      <td>NaN</td>\n",
              "      <td>NaN</td>\n",
              "      <td>0</td>\n",
              "      <td>0</td>\n",
              "      <td>0</td>\n",
              "      <td>0</td>\n",
              "      <td>0</td>\n",
              "      <td>0</td>\n",
              "      <td>0</td>\n",
              "      <td>0</td>\n",
              "      <td>0</td>\n",
              "      <td>0</td>\n",
              "      <td>0</td>\n",
              "      <td>0</td>\n",
              "      <td>...</td>\n",
              "      <td>ACAEAAACABEBABAADCEEEDE*CBDCCCADADCCCBEBBBBDB</td>\n",
              "      <td>99999CCCABBCAADDBCEBCCADBEEBDECBAABDEACACAEABB...</td>\n",
              "      <td>DEEDCAECDDEEECBCBECABEBAECBBCDAECAEBBBBBDCCDB</td>\n",
              "      <td>1</td>\n",
              "      <td>DEADBAAAEBEECEBCBCBCBDADAEABCEDDDDADCBEECACBC</td>\n",
              "      <td>ACACEEBCCBABADBBBACDBBACCCCADCEBADCBEEDBBEADB</td>\n",
              "      <td>EBBADCABDABACBCEBDEEAAADDBECDECDDBADBCDAAECBCC...</td>\n",
              "      <td>AADDDBEEEBEDDBEBACABCDBABECECACAECDCBDCCEDCDA</td>\n",
              "      <td>1.0</td>\n",
              "      <td>60.0</td>\n",
              "      <td>100.0</td>\n",
              "      <td>80.0</td>\n",
              "      <td>80.0</td>\n",
              "      <td>100.0</td>\n",
              "      <td>420.0</td>\n",
              "      <td>B</td>\n",
              "      <td>B</td>\n",
              "      <td>A</td>\n",
              "      <td>A</td>\n",
              "      <td>4</td>\n",
              "      <td>B</td>\n",
              "      <td>A</td>\n",
              "      <td>C</td>\n",
              "      <td>B</td>\n",
              "      <td>A</td>\n",
              "      <td>C</td>\n",
              "      <td>B</td>\n",
              "      <td>A</td>\n",
              "      <td>A</td>\n",
              "      <td>A</td>\n",
              "      <td>A</td>\n",
              "      <td>A</td>\n",
              "      <td>A</td>\n",
              "      <td>A</td>\n",
              "      <td>B</td>\n",
              "      <td>A</td>\n",
              "      <td>C</td>\n",
              "      <td>A</td>\n",
              "      <td>B</td>\n",
              "      <td>B</td>\n",
              "    </tr>\n",
              "    <tr>\n",
              "      <th>1</th>\n",
              "      <td>190001004674</td>\n",
              "      <td>2019</td>\n",
              "      <td>1504208</td>\n",
              "      <td>Marabá</td>\n",
              "      <td>15</td>\n",
              "      <td>PA</td>\n",
              "      <td>23</td>\n",
              "      <td>M</td>\n",
              "      <td>1</td>\n",
              "      <td>3</td>\n",
              "      <td>1</td>\n",
              "      <td>1504208.0</td>\n",
              "      <td>Marabá</td>\n",
              "      <td>15.0</td>\n",
              "      <td>PA</td>\n",
              "      <td>1</td>\n",
              "      <td>3</td>\n",
              "      <td>1</td>\n",
              "      <td>1.0</td>\n",
              "      <td>0</td>\n",
              "      <td>NaN</td>\n",
              "      <td>NaN</td>\n",
              "      <td>NaN</td>\n",
              "      <td>NaN</td>\n",
              "      <td>NaN</td>\n",
              "      <td>NaN</td>\n",
              "      <td>NaN</td>\n",
              "      <td>NaN</td>\n",
              "      <td>0</td>\n",
              "      <td>0</td>\n",
              "      <td>0</td>\n",
              "      <td>0</td>\n",
              "      <td>0</td>\n",
              "      <td>0</td>\n",
              "      <td>0</td>\n",
              "      <td>0</td>\n",
              "      <td>0</td>\n",
              "      <td>0</td>\n",
              "      <td>0</td>\n",
              "      <td>0</td>\n",
              "      <td>...</td>\n",
              "      <td>ABBCEADCEBAAACACEDCDCDACCCACDCBCABCAACBDBDEDE</td>\n",
              "      <td>99999ABCEBCEDDECEEEBBCCEECCABDABEEBCDEAEBBEAEA...</td>\n",
              "      <td>NaN</td>\n",
              "      <td>1</td>\n",
              "      <td>NaN</td>\n",
              "      <td>CBABADBBCEEEBCBADCBEEDBBEADBBACDBBACCCCADACAC</td>\n",
              "      <td>BBEDABDACACBABAECBBCCADCEBDBBCDDEEAAADDBECDECA...</td>\n",
              "      <td>NaN</td>\n",
              "      <td>1.0</td>\n",
              "      <td>80.0</td>\n",
              "      <td>100.0</td>\n",
              "      <td>80.0</td>\n",
              "      <td>80.0</td>\n",
              "      <td>60.0</td>\n",
              "      <td>400.0</td>\n",
              "      <td>C</td>\n",
              "      <td>C</td>\n",
              "      <td>A</td>\n",
              "      <td>A</td>\n",
              "      <td>4</td>\n",
              "      <td>B</td>\n",
              "      <td>A</td>\n",
              "      <td>B</td>\n",
              "      <td>C</td>\n",
              "      <td>A</td>\n",
              "      <td>A</td>\n",
              "      <td>B</td>\n",
              "      <td>B</td>\n",
              "      <td>B</td>\n",
              "      <td>A</td>\n",
              "      <td>A</td>\n",
              "      <td>A</td>\n",
              "      <td>A</td>\n",
              "      <td>B</td>\n",
              "      <td>A</td>\n",
              "      <td>A</td>\n",
              "      <td>B</td>\n",
              "      <td>A</td>\n",
              "      <td>A</td>\n",
              "      <td>B</td>\n",
              "    </tr>\n",
              "    <tr>\n",
              "      <th>2</th>\n",
              "      <td>190001004722</td>\n",
              "      <td>2019</td>\n",
              "      <td>1501402</td>\n",
              "      <td>Belém</td>\n",
              "      <td>15</td>\n",
              "      <td>PA</td>\n",
              "      <td>35</td>\n",
              "      <td>F</td>\n",
              "      <td>2</td>\n",
              "      <td>1</td>\n",
              "      <td>1</td>\n",
              "      <td>1501402.0</td>\n",
              "      <td>Belém</td>\n",
              "      <td>15.0</td>\n",
              "      <td>PA</td>\n",
              "      <td>1</td>\n",
              "      <td>12</td>\n",
              "      <td>1</td>\n",
              "      <td>1.0</td>\n",
              "      <td>0</td>\n",
              "      <td>NaN</td>\n",
              "      <td>NaN</td>\n",
              "      <td>NaN</td>\n",
              "      <td>NaN</td>\n",
              "      <td>NaN</td>\n",
              "      <td>NaN</td>\n",
              "      <td>NaN</td>\n",
              "      <td>NaN</td>\n",
              "      <td>0</td>\n",
              "      <td>0</td>\n",
              "      <td>0</td>\n",
              "      <td>0</td>\n",
              "      <td>0</td>\n",
              "      <td>0</td>\n",
              "      <td>0</td>\n",
              "      <td>0</td>\n",
              "      <td>0</td>\n",
              "      <td>0</td>\n",
              "      <td>0</td>\n",
              "      <td>0</td>\n",
              "      <td>...</td>\n",
              "      <td>CDCAACCAAADEACBBEBAAEECDABDEBAEAABEDCABABAABC</td>\n",
              "      <td>99999ECBCECEBBABECCCECECCEECCDECEEEDADDDDECEDD...</td>\n",
              "      <td>DDBEADEBBCADCEEACABECBCEBADECADCEDAACBDABABCE</td>\n",
              "      <td>1</td>\n",
              "      <td>AAECACDEADCBCDDDBCBDADAEABCEBABEEBCBEECEBDADC</td>\n",
              "      <td>CBABADBBCEEEBCBADCBEEDBBEADBBACDBBACCCCADACAC</td>\n",
              "      <td>BBEDABDACACBABAECBBCCADCEBDBBCDDEEAAADDBECDECA...</td>\n",
              "      <td>EEEADBEBACABCDBABECECACDCBDCCEDCDABEDECDDDBAA</td>\n",
              "      <td>1.0</td>\n",
              "      <td>100.0</td>\n",
              "      <td>120.0</td>\n",
              "      <td>120.0</td>\n",
              "      <td>100.0</td>\n",
              "      <td>120.0</td>\n",
              "      <td>560.0</td>\n",
              "      <td>C</td>\n",
              "      <td>A</td>\n",
              "      <td>B</td>\n",
              "      <td>B</td>\n",
              "      <td>5</td>\n",
              "      <td>C</td>\n",
              "      <td>A</td>\n",
              "      <td>B</td>\n",
              "      <td>C</td>\n",
              "      <td>A</td>\n",
              "      <td>A</td>\n",
              "      <td>B</td>\n",
              "      <td>A</td>\n",
              "      <td>B</td>\n",
              "      <td>A</td>\n",
              "      <td>A</td>\n",
              "      <td>A</td>\n",
              "      <td>A</td>\n",
              "      <td>B</td>\n",
              "      <td>A</td>\n",
              "      <td>B</td>\n",
              "      <td>B</td>\n",
              "      <td>A</td>\n",
              "      <td>A</td>\n",
              "      <td>B</td>\n",
              "    </tr>\n",
              "    <tr>\n",
              "      <th>3</th>\n",
              "      <td>190001004735</td>\n",
              "      <td>2019</td>\n",
              "      <td>1507300</td>\n",
              "      <td>São Félix do Xingu</td>\n",
              "      <td>15</td>\n",
              "      <td>PA</td>\n",
              "      <td>23</td>\n",
              "      <td>F</td>\n",
              "      <td>1</td>\n",
              "      <td>3</td>\n",
              "      <td>1</td>\n",
              "      <td>1505437.0</td>\n",
              "      <td>Ourilândia do Norte</td>\n",
              "      <td>15.0</td>\n",
              "      <td>PA</td>\n",
              "      <td>1</td>\n",
              "      <td>7</td>\n",
              "      <td>1</td>\n",
              "      <td>NaN</td>\n",
              "      <td>0</td>\n",
              "      <td>NaN</td>\n",
              "      <td>NaN</td>\n",
              "      <td>NaN</td>\n",
              "      <td>NaN</td>\n",
              "      <td>NaN</td>\n",
              "      <td>NaN</td>\n",
              "      <td>NaN</td>\n",
              "      <td>NaN</td>\n",
              "      <td>0</td>\n",
              "      <td>0</td>\n",
              "      <td>0</td>\n",
              "      <td>0</td>\n",
              "      <td>0</td>\n",
              "      <td>0</td>\n",
              "      <td>0</td>\n",
              "      <td>0</td>\n",
              "      <td>0</td>\n",
              "      <td>0</td>\n",
              "      <td>0</td>\n",
              "      <td>0</td>\n",
              "      <td>...</td>\n",
              "      <td>EECCCEDBADBEAAAAEBAECEAAAAEEEBACCAC*CEAEDAECE</td>\n",
              "      <td>99999BABCDABBCBDDAAECADBDDADDCBCEEDCAEBCEAEABD...</td>\n",
              "      <td>CBDEBBCBDEBCABCDBDEDADCCBEDBCAECEBEBDEBAEECBC</td>\n",
              "      <td>1</td>\n",
              "      <td>BEEAAEBEEBADEADDADAEABCEDDDBCBCBCCACBCDADCCEB</td>\n",
              "      <td>EEBCEEDBADBBCBABCCADCEBACDBBACCACACBEADBBADCB</td>\n",
              "      <td>ADBBEDCABAABBCBCDAAECDDDBAAAECADECDCEBDEEAECBD...</td>\n",
              "      <td>BEDEEEAADBEBACABCDBABECECACADCBDCCEDCDABECDDD</td>\n",
              "      <td>1.0</td>\n",
              "      <td>100.0</td>\n",
              "      <td>120.0</td>\n",
              "      <td>120.0</td>\n",
              "      <td>120.0</td>\n",
              "      <td>40.0</td>\n",
              "      <td>500.0</td>\n",
              "      <td>E</td>\n",
              "      <td>C</td>\n",
              "      <td>A</td>\n",
              "      <td>A</td>\n",
              "      <td>1</td>\n",
              "      <td>B</td>\n",
              "      <td>A</td>\n",
              "      <td>B</td>\n",
              "      <td>C</td>\n",
              "      <td>A</td>\n",
              "      <td>A</td>\n",
              "      <td>B</td>\n",
              "      <td>A</td>\n",
              "      <td>A</td>\n",
              "      <td>A</td>\n",
              "      <td>A</td>\n",
              "      <td>A</td>\n",
              "      <td>A</td>\n",
              "      <td>B</td>\n",
              "      <td>A</td>\n",
              "      <td>A</td>\n",
              "      <td>B</td>\n",
              "      <td>A</td>\n",
              "      <td>A</td>\n",
              "      <td>B</td>\n",
              "    </tr>\n",
              "    <tr>\n",
              "      <th>4</th>\n",
              "      <td>190001004776</td>\n",
              "      <td>2019</td>\n",
              "      <td>1500800</td>\n",
              "      <td>Ananindeua</td>\n",
              "      <td>15</td>\n",
              "      <td>PA</td>\n",
              "      <td>16</td>\n",
              "      <td>F</td>\n",
              "      <td>1</td>\n",
              "      <td>3</td>\n",
              "      <td>1</td>\n",
              "      <td>1500800.0</td>\n",
              "      <td>Ananindeua</td>\n",
              "      <td>15.0</td>\n",
              "      <td>PA</td>\n",
              "      <td>3</td>\n",
              "      <td>0</td>\n",
              "      <td>1</td>\n",
              "      <td>NaN</td>\n",
              "      <td>1</td>\n",
              "      <td>NaN</td>\n",
              "      <td>NaN</td>\n",
              "      <td>NaN</td>\n",
              "      <td>NaN</td>\n",
              "      <td>NaN</td>\n",
              "      <td>NaN</td>\n",
              "      <td>NaN</td>\n",
              "      <td>NaN</td>\n",
              "      <td>0</td>\n",
              "      <td>0</td>\n",
              "      <td>0</td>\n",
              "      <td>0</td>\n",
              "      <td>0</td>\n",
              "      <td>0</td>\n",
              "      <td>0</td>\n",
              "      <td>0</td>\n",
              "      <td>0</td>\n",
              "      <td>0</td>\n",
              "      <td>0</td>\n",
              "      <td>0</td>\n",
              "      <td>...</td>\n",
              "      <td>CCBCBEACABACABBBBACCBCEBDCBABCADADCBCADBAADEA</td>\n",
              "      <td>EBCAB99999BBCECBCACBEACBDAABDBCBBDACEBBACDCAEC...</td>\n",
              "      <td>AECCBBCBBCBDEDECACBAABEDABBEDDADCEADDBEBDBBEB</td>\n",
              "      <td>0</td>\n",
              "      <td>DEADBAAAEBEECEBCBCBCBDADAEABCEDDDDADCBEECACBC</td>\n",
              "      <td>ACACEEBCCBABADBBBACDBBACCCCADCEBADCBEEDBBEADB</td>\n",
              "      <td>EBBADCABDABACBCEBDEEAAADDBECDECDDBADBCDAAECBCC...</td>\n",
              "      <td>AADDDBEEEBEDDBEBACABCDBABECECACAECDCBDCCEDCDA</td>\n",
              "      <td>1.0</td>\n",
              "      <td>160.0</td>\n",
              "      <td>140.0</td>\n",
              "      <td>160.0</td>\n",
              "      <td>160.0</td>\n",
              "      <td>160.0</td>\n",
              "      <td>780.0</td>\n",
              "      <td>E</td>\n",
              "      <td>E</td>\n",
              "      <td>B</td>\n",
              "      <td>D</td>\n",
              "      <td>3</td>\n",
              "      <td>E</td>\n",
              "      <td>A</td>\n",
              "      <td>B</td>\n",
              "      <td>C</td>\n",
              "      <td>B</td>\n",
              "      <td>A</td>\n",
              "      <td>B</td>\n",
              "      <td>A</td>\n",
              "      <td>A</td>\n",
              "      <td>A</td>\n",
              "      <td>A</td>\n",
              "      <td>A</td>\n",
              "      <td>A</td>\n",
              "      <td>B</td>\n",
              "      <td>A</td>\n",
              "      <td>A</td>\n",
              "      <td>D</td>\n",
              "      <td>A</td>\n",
              "      <td>A</td>\n",
              "      <td>B</td>\n",
              "    </tr>\n",
              "  </tbody>\n",
              "</table>\n",
              "<p>5 rows × 136 columns</p>\n",
              "</div>"
            ],
            "text/plain": [
              "   NU_INSCRICAO  NU_ANO  CO_MUNICIPIO_RESIDENCIA  ... Q023  Q024 Q025\n",
              "0  190001004661    2019                  1506138  ...    A     B    B\n",
              "1  190001004674    2019                  1504208  ...    A     A    B\n",
              "2  190001004722    2019                  1501402  ...    A     A    B\n",
              "3  190001004735    2019                  1507300  ...    A     A    B\n",
              "4  190001004776    2019                  1500800  ...    A     A    B\n",
              "\n",
              "[5 rows x 136 columns]"
            ]
          },
          "metadata": {
            "tags": []
          },
          "execution_count": 305
        }
      ]
    },
    {
      "cell_type": "markdown",
      "metadata": {
        "id": "kvD7EUizwwAm"
      },
      "source": [
        "As colunas utilizadas inicialmente serão as seguintes:\n",
        "\n",
        "|Propriedade      | Descrição                             |\n",
        "|:--------------- |:--------------------------------------|\n",
        "| TP_ESCOLA\t      | Tipo de escola do Ensino Médio <sup>1</sup>|\n",
        "| NU_NOTA_CN      |Nota da prova de Ciências da Natureza  |\n",
        "| NU_NOTA_CH\t  |Nota da prova de Ciências Humanas      |\n",
        "| NU_NOTA_LC\t  |Nota da prova de Linguagens e Códigos  |\n",
        "| NU_NOTA_MT\t  |Nota da prova de Matemática            |\n",
        "| NU_NOTA_REDACAO |Nota da prova de redação               |\n",
        "| TP_ST_CONCLUSAO      |Situação de conclusão do Ensino Médio  |\n",
        "| TP_PRESENCA_CN      | Presença na prova objetiva de Ciências da Natureza  |\n",
        "| TP_PRESENCA_CH      |Presença na prova objetiva de Ciências Humanas  |\n",
        "| TP_PRESENCA_LC      |Presença na prova objetiva de Linguagens e Códigos  |\n",
        "| TP_PRESENCA_MT      |Presença na prova objetiva de Matemática  |\n",
        "| Q006      |Qual é a renda mensal de sua família? (Some a sua renda com a dos seus familiares.)  |"
      ]
    },
    {
      "cell_type": "code",
      "metadata": {
        "id": "A9cvItaay2w-",
        "outputId": "19e1a282-59c7-43de-a5ad-240bba1e2244",
        "colab": {
          "base_uri": "https://localhost:8080/",
          "height": 204
        }
      },
      "source": [
        "# Separando colunas de interesse\n",
        "\n",
        "interesse = ['TP_ESCOLA', 'NU_NOTA_CN', 'NU_NOTA_CH', 'NU_NOTA_LC', 'NU_NOTA_MT', 'NU_NOTA_REDACAO', 'TP_ST_CONCLUSAO', 'TP_PRESENCA_CN','TP_PRESENCA_CH','TP_PRESENCA_LC','TP_PRESENCA_MT', 'Q006']\n",
        "dados_interesse = dados[interesse]\n",
        "dados_interesse.head()"
      ],
      "execution_count": null,
      "outputs": [
        {
          "output_type": "execute_result",
          "data": {
            "text/html": [
              "<div>\n",
              "<style scoped>\n",
              "    .dataframe tbody tr th:only-of-type {\n",
              "        vertical-align: middle;\n",
              "    }\n",
              "\n",
              "    .dataframe tbody tr th {\n",
              "        vertical-align: top;\n",
              "    }\n",
              "\n",
              "    .dataframe thead th {\n",
              "        text-align: right;\n",
              "    }\n",
              "</style>\n",
              "<table border=\"1\" class=\"dataframe\">\n",
              "  <thead>\n",
              "    <tr style=\"text-align: right;\">\n",
              "      <th></th>\n",
              "      <th>TP_ESCOLA</th>\n",
              "      <th>NU_NOTA_CN</th>\n",
              "      <th>NU_NOTA_CH</th>\n",
              "      <th>NU_NOTA_LC</th>\n",
              "      <th>NU_NOTA_MT</th>\n",
              "      <th>NU_NOTA_REDACAO</th>\n",
              "      <th>TP_ST_CONCLUSAO</th>\n",
              "      <th>TP_PRESENCA_CN</th>\n",
              "      <th>TP_PRESENCA_CH</th>\n",
              "      <th>TP_PRESENCA_LC</th>\n",
              "      <th>TP_PRESENCA_MT</th>\n",
              "      <th>Q006</th>\n",
              "    </tr>\n",
              "  </thead>\n",
              "  <tbody>\n",
              "    <tr>\n",
              "      <th>0</th>\n",
              "      <td>1</td>\n",
              "      <td>435.6</td>\n",
              "      <td>512.3</td>\n",
              "      <td>488.6</td>\n",
              "      <td>432.4</td>\n",
              "      <td>420.0</td>\n",
              "      <td>3</td>\n",
              "      <td>1</td>\n",
              "      <td>1</td>\n",
              "      <td>1</td>\n",
              "      <td>1</td>\n",
              "      <td>B</td>\n",
              "    </tr>\n",
              "    <tr>\n",
              "      <th>1</th>\n",
              "      <td>1</td>\n",
              "      <td>NaN</td>\n",
              "      <td>409.3</td>\n",
              "      <td>375.3</td>\n",
              "      <td>NaN</td>\n",
              "      <td>400.0</td>\n",
              "      <td>1</td>\n",
              "      <td>0</td>\n",
              "      <td>1</td>\n",
              "      <td>1</td>\n",
              "      <td>0</td>\n",
              "      <td>B</td>\n",
              "    </tr>\n",
              "    <tr>\n",
              "      <th>2</th>\n",
              "      <td>1</td>\n",
              "      <td>423.2</td>\n",
              "      <td>499.1</td>\n",
              "      <td>441.0</td>\n",
              "      <td>427.2</td>\n",
              "      <td>560.0</td>\n",
              "      <td>1</td>\n",
              "      <td>1</td>\n",
              "      <td>1</td>\n",
              "      <td>1</td>\n",
              "      <td>1</td>\n",
              "      <td>C</td>\n",
              "    </tr>\n",
              "    <tr>\n",
              "      <th>3</th>\n",
              "      <td>1</td>\n",
              "      <td>426.2</td>\n",
              "      <td>578.1</td>\n",
              "      <td>551.5</td>\n",
              "      <td>499.9</td>\n",
              "      <td>500.0</td>\n",
              "      <td>1</td>\n",
              "      <td>1</td>\n",
              "      <td>1</td>\n",
              "      <td>1</td>\n",
              "      <td>1</td>\n",
              "      <td>B</td>\n",
              "    </tr>\n",
              "    <tr>\n",
              "      <th>4</th>\n",
              "      <td>1</td>\n",
              "      <td>516.5</td>\n",
              "      <td>571.3</td>\n",
              "      <td>511.2</td>\n",
              "      <td>424.5</td>\n",
              "      <td>780.0</td>\n",
              "      <td>3</td>\n",
              "      <td>1</td>\n",
              "      <td>1</td>\n",
              "      <td>1</td>\n",
              "      <td>1</td>\n",
              "      <td>E</td>\n",
              "    </tr>\n",
              "  </tbody>\n",
              "</table>\n",
              "</div>"
            ],
            "text/plain": [
              "   TP_ESCOLA  NU_NOTA_CN  NU_NOTA_CH  ...  TP_PRESENCA_LC  TP_PRESENCA_MT  Q006\n",
              "0          1       435.6       512.3  ...               1               1     B\n",
              "1          1         NaN       409.3  ...               1               0     B\n",
              "2          1       423.2       499.1  ...               1               1     C\n",
              "3          1       426.2       578.1  ...               1               1     B\n",
              "4          1       516.5       571.3  ...               1               1     E\n",
              "\n",
              "[5 rows x 12 columns]"
            ]
          },
          "metadata": {
            "tags": []
          },
          "execution_count": 325
        }
      ]
    },
    {
      "cell_type": "code",
      "metadata": {
        "id": "AIYlVnnlwrAA",
        "outputId": "7be6e0a3-9156-4d9f-8ee3-505096d1e137",
        "colab": {
          "base_uri": "https://localhost:8080/",
          "height": 340
        }
      },
      "source": [
        "# Verificando informações dos dados obtidos e verificando elementos nulos.\n",
        "\n",
        "dados_interesse.info(verbose=1,null_counts=1)"
      ],
      "execution_count": null,
      "outputs": [
        {
          "output_type": "stream",
          "text": [
            "<class 'pandas.core.frame.DataFrame'>\n",
            "RangeIndex: 127380 entries, 0 to 127379\n",
            "Data columns (total 12 columns):\n",
            " #   Column           Non-Null Count   Dtype  \n",
            "---  ------           --------------   -----  \n",
            " 0   TP_ESCOLA        127380 non-null  int64  \n",
            " 1   NU_NOTA_CN       92758 non-null   float64\n",
            " 2   NU_NOTA_CH       98043 non-null   float64\n",
            " 3   NU_NOTA_LC       98043 non-null   float64\n",
            " 4   NU_NOTA_MT       92758 non-null   float64\n",
            " 5   NU_NOTA_REDACAO  98043 non-null   float64\n",
            " 6   TP_ST_CONCLUSAO  127380 non-null  int64  \n",
            " 7   TP_PRESENCA_CN   127380 non-null  int64  \n",
            " 8   TP_PRESENCA_CH   127380 non-null  int64  \n",
            " 9   TP_PRESENCA_LC   127380 non-null  int64  \n",
            " 10  TP_PRESENCA_MT   127380 non-null  int64  \n",
            " 11  Q006             127380 non-null  object \n",
            "dtypes: float64(5), int64(6), object(1)\n",
            "memory usage: 11.7+ MB\n"
          ],
          "name": "stdout"
        }
      ]
    },
    {
      "cell_type": "code",
      "metadata": {
        "id": "dNHnFoSECINA",
        "outputId": "859461ce-a5b2-4fdf-a2ab-184dc8d19a2c",
        "colab": {
          "base_uri": "https://localhost:8080/",
          "height": 204
        }
      },
      "source": [
        "#Removendo dados com valores nulos ou zero.\n",
        "dados_interesse = dados_interesse.dropna()\n",
        "dados_interesse.head()"
      ],
      "execution_count": null,
      "outputs": [
        {
          "output_type": "execute_result",
          "data": {
            "text/html": [
              "<div>\n",
              "<style scoped>\n",
              "    .dataframe tbody tr th:only-of-type {\n",
              "        vertical-align: middle;\n",
              "    }\n",
              "\n",
              "    .dataframe tbody tr th {\n",
              "        vertical-align: top;\n",
              "    }\n",
              "\n",
              "    .dataframe thead th {\n",
              "        text-align: right;\n",
              "    }\n",
              "</style>\n",
              "<table border=\"1\" class=\"dataframe\">\n",
              "  <thead>\n",
              "    <tr style=\"text-align: right;\">\n",
              "      <th></th>\n",
              "      <th>TP_ESCOLA</th>\n",
              "      <th>NU_NOTA_CN</th>\n",
              "      <th>NU_NOTA_CH</th>\n",
              "      <th>NU_NOTA_LC</th>\n",
              "      <th>NU_NOTA_MT</th>\n",
              "      <th>NU_NOTA_REDACAO</th>\n",
              "      <th>TP_ST_CONCLUSAO</th>\n",
              "      <th>TP_PRESENCA_CN</th>\n",
              "      <th>TP_PRESENCA_CH</th>\n",
              "      <th>TP_PRESENCA_LC</th>\n",
              "      <th>TP_PRESENCA_MT</th>\n",
              "      <th>Q006</th>\n",
              "    </tr>\n",
              "  </thead>\n",
              "  <tbody>\n",
              "    <tr>\n",
              "      <th>0</th>\n",
              "      <td>1</td>\n",
              "      <td>435.6</td>\n",
              "      <td>512.3</td>\n",
              "      <td>488.6</td>\n",
              "      <td>432.4</td>\n",
              "      <td>420.0</td>\n",
              "      <td>3</td>\n",
              "      <td>1</td>\n",
              "      <td>1</td>\n",
              "      <td>1</td>\n",
              "      <td>1</td>\n",
              "      <td>B</td>\n",
              "    </tr>\n",
              "    <tr>\n",
              "      <th>2</th>\n",
              "      <td>1</td>\n",
              "      <td>423.2</td>\n",
              "      <td>499.1</td>\n",
              "      <td>441.0</td>\n",
              "      <td>427.2</td>\n",
              "      <td>560.0</td>\n",
              "      <td>1</td>\n",
              "      <td>1</td>\n",
              "      <td>1</td>\n",
              "      <td>1</td>\n",
              "      <td>1</td>\n",
              "      <td>C</td>\n",
              "    </tr>\n",
              "    <tr>\n",
              "      <th>3</th>\n",
              "      <td>1</td>\n",
              "      <td>426.2</td>\n",
              "      <td>578.1</td>\n",
              "      <td>551.5</td>\n",
              "      <td>499.9</td>\n",
              "      <td>500.0</td>\n",
              "      <td>1</td>\n",
              "      <td>1</td>\n",
              "      <td>1</td>\n",
              "      <td>1</td>\n",
              "      <td>1</td>\n",
              "      <td>B</td>\n",
              "    </tr>\n",
              "    <tr>\n",
              "      <th>4</th>\n",
              "      <td>1</td>\n",
              "      <td>516.5</td>\n",
              "      <td>571.3</td>\n",
              "      <td>511.2</td>\n",
              "      <td>424.5</td>\n",
              "      <td>780.0</td>\n",
              "      <td>3</td>\n",
              "      <td>1</td>\n",
              "      <td>1</td>\n",
              "      <td>1</td>\n",
              "      <td>1</td>\n",
              "      <td>E</td>\n",
              "    </tr>\n",
              "    <tr>\n",
              "      <th>5</th>\n",
              "      <td>2</td>\n",
              "      <td>559.6</td>\n",
              "      <td>618.7</td>\n",
              "      <td>607.5</td>\n",
              "      <td>615.6</td>\n",
              "      <td>900.0</td>\n",
              "      <td>2</td>\n",
              "      <td>1</td>\n",
              "      <td>1</td>\n",
              "      <td>1</td>\n",
              "      <td>1</td>\n",
              "      <td>C</td>\n",
              "    </tr>\n",
              "  </tbody>\n",
              "</table>\n",
              "</div>"
            ],
            "text/plain": [
              "   TP_ESCOLA  NU_NOTA_CN  NU_NOTA_CH  ...  TP_PRESENCA_LC  TP_PRESENCA_MT  Q006\n",
              "0          1       435.6       512.3  ...               1               1     B\n",
              "2          1       423.2       499.1  ...               1               1     C\n",
              "3          1       426.2       578.1  ...               1               1     B\n",
              "4          1       516.5       571.3  ...               1               1     E\n",
              "5          2       559.6       618.7  ...               1               1     C\n",
              "\n",
              "[5 rows x 12 columns]"
            ]
          },
          "metadata": {
            "tags": []
          },
          "execution_count": 327
        }
      ]
    },
    {
      "cell_type": "code",
      "metadata": {
        "id": "Qv0cpZxWC0PV",
        "outputId": "54707740-8d12-470b-96a3-02c7bbdae360",
        "colab": {
          "base_uri": "https://localhost:8080/",
          "height": 340
        }
      },
      "source": [
        "#Removendo alunos que nao estejam concluindo o ensino medio em 2019\n",
        "\n",
        "dados_conclui_2019 = dados_interesse.query(\"TP_ST_CONCLUSAO == 2\")\n",
        "dados_conclui_2019.info()\n"
      ],
      "execution_count": null,
      "outputs": [
        {
          "output_type": "stream",
          "text": [
            "<class 'pandas.core.frame.DataFrame'>\n",
            "Int64Index: 30353 entries, 5 to 127379\n",
            "Data columns (total 12 columns):\n",
            " #   Column           Non-Null Count  Dtype  \n",
            "---  ------           --------------  -----  \n",
            " 0   TP_ESCOLA        30353 non-null  int64  \n",
            " 1   NU_NOTA_CN       30353 non-null  float64\n",
            " 2   NU_NOTA_CH       30353 non-null  float64\n",
            " 3   NU_NOTA_LC       30353 non-null  float64\n",
            " 4   NU_NOTA_MT       30353 non-null  float64\n",
            " 5   NU_NOTA_REDACAO  30353 non-null  float64\n",
            " 6   TP_ST_CONCLUSAO  30353 non-null  int64  \n",
            " 7   TP_PRESENCA_CN   30353 non-null  int64  \n",
            " 8   TP_PRESENCA_CH   30353 non-null  int64  \n",
            " 9   TP_PRESENCA_LC   30353 non-null  int64  \n",
            " 10  TP_PRESENCA_MT   30353 non-null  int64  \n",
            " 11  Q006             30353 non-null  object \n",
            "dtypes: float64(5), int64(6), object(1)\n",
            "memory usage: 3.0+ MB\n"
          ],
          "name": "stdout"
        }
      ]
    },
    {
      "cell_type": "code",
      "metadata": {
        "id": "R_8FV0W9KR6_",
        "outputId": "1bc87a06-f222-48f7-823b-89d9a2142f9c",
        "colab": {
          "base_uri": "https://localhost:8080/",
          "height": 204
        }
      },
      "source": [
        "#Removendo alunos que tenham faltado em alguma prova\n",
        "\n",
        "dados_presentes = dados_conclui_2019[(dados_conclui_2019['TP_PRESENCA_CN']== 1) & (dados_conclui_2019['TP_PRESENCA_CH']== 1) & (dados_conclui_2019['TP_PRESENCA_LC']== 1) & (dados_conclui_2019['TP_PRESENCA_MT']== 1)]\n",
        "dados_presentes.head()"
      ],
      "execution_count": null,
      "outputs": [
        {
          "output_type": "execute_result",
          "data": {
            "text/html": [
              "<div>\n",
              "<style scoped>\n",
              "    .dataframe tbody tr th:only-of-type {\n",
              "        vertical-align: middle;\n",
              "    }\n",
              "\n",
              "    .dataframe tbody tr th {\n",
              "        vertical-align: top;\n",
              "    }\n",
              "\n",
              "    .dataframe thead th {\n",
              "        text-align: right;\n",
              "    }\n",
              "</style>\n",
              "<table border=\"1\" class=\"dataframe\">\n",
              "  <thead>\n",
              "    <tr style=\"text-align: right;\">\n",
              "      <th></th>\n",
              "      <th>TP_ESCOLA</th>\n",
              "      <th>NU_NOTA_CN</th>\n",
              "      <th>NU_NOTA_CH</th>\n",
              "      <th>NU_NOTA_LC</th>\n",
              "      <th>NU_NOTA_MT</th>\n",
              "      <th>NU_NOTA_REDACAO</th>\n",
              "      <th>TP_ST_CONCLUSAO</th>\n",
              "      <th>TP_PRESENCA_CN</th>\n",
              "      <th>TP_PRESENCA_CH</th>\n",
              "      <th>TP_PRESENCA_LC</th>\n",
              "      <th>TP_PRESENCA_MT</th>\n",
              "      <th>Q006</th>\n",
              "    </tr>\n",
              "  </thead>\n",
              "  <tbody>\n",
              "    <tr>\n",
              "      <th>5</th>\n",
              "      <td>2</td>\n",
              "      <td>559.6</td>\n",
              "      <td>618.7</td>\n",
              "      <td>607.5</td>\n",
              "      <td>615.6</td>\n",
              "      <td>900.0</td>\n",
              "      <td>2</td>\n",
              "      <td>1</td>\n",
              "      <td>1</td>\n",
              "      <td>1</td>\n",
              "      <td>1</td>\n",
              "      <td>C</td>\n",
              "    </tr>\n",
              "    <tr>\n",
              "      <th>8</th>\n",
              "      <td>3</td>\n",
              "      <td>529.9</td>\n",
              "      <td>568.9</td>\n",
              "      <td>576.0</td>\n",
              "      <td>590.3</td>\n",
              "      <td>860.0</td>\n",
              "      <td>2</td>\n",
              "      <td>1</td>\n",
              "      <td>1</td>\n",
              "      <td>1</td>\n",
              "      <td>1</td>\n",
              "      <td>G</td>\n",
              "    </tr>\n",
              "    <tr>\n",
              "      <th>19</th>\n",
              "      <td>2</td>\n",
              "      <td>477.6</td>\n",
              "      <td>459.3</td>\n",
              "      <td>517.2</td>\n",
              "      <td>586.2</td>\n",
              "      <td>340.0</td>\n",
              "      <td>2</td>\n",
              "      <td>1</td>\n",
              "      <td>1</td>\n",
              "      <td>1</td>\n",
              "      <td>1</td>\n",
              "      <td>C</td>\n",
              "    </tr>\n",
              "    <tr>\n",
              "      <th>22</th>\n",
              "      <td>2</td>\n",
              "      <td>426.8</td>\n",
              "      <td>467.6</td>\n",
              "      <td>481.8</td>\n",
              "      <td>498.2</td>\n",
              "      <td>0.0</td>\n",
              "      <td>2</td>\n",
              "      <td>1</td>\n",
              "      <td>1</td>\n",
              "      <td>1</td>\n",
              "      <td>1</td>\n",
              "      <td>B</td>\n",
              "    </tr>\n",
              "    <tr>\n",
              "      <th>31</th>\n",
              "      <td>2</td>\n",
              "      <td>480.3</td>\n",
              "      <td>532.3</td>\n",
              "      <td>538.9</td>\n",
              "      <td>503.3</td>\n",
              "      <td>520.0</td>\n",
              "      <td>2</td>\n",
              "      <td>1</td>\n",
              "      <td>1</td>\n",
              "      <td>1</td>\n",
              "      <td>1</td>\n",
              "      <td>B</td>\n",
              "    </tr>\n",
              "  </tbody>\n",
              "</table>\n",
              "</div>"
            ],
            "text/plain": [
              "    TP_ESCOLA  NU_NOTA_CN  NU_NOTA_CH  ...  TP_PRESENCA_LC  TP_PRESENCA_MT  Q006\n",
              "5           2       559.6       618.7  ...               1               1     C\n",
              "8           3       529.9       568.9  ...               1               1     G\n",
              "19          2       477.6       459.3  ...               1               1     C\n",
              "22          2       426.8       467.6  ...               1               1     B\n",
              "31          2       480.3       532.3  ...               1               1     B\n",
              "\n",
              "[5 rows x 12 columns]"
            ]
          },
          "metadata": {
            "tags": []
          },
          "execution_count": 329
        }
      ]
    },
    {
      "cell_type": "markdown",
      "metadata": {
        "id": "V-1nTDJ8NSeL"
      },
      "source": [
        "### Verificando a quantidade de alunos em cada tipo de escola:\n",
        "\n",
        "Pode-se visualizar abaixo que o número de alunos em escolas públicas é cerca de tres vezes maior quando comparado ao número de alunos em escolas privadas, o que deve ser levado em consideração no momento de treinar o classificador para que o mesmo não crie um viez de classificação pelo número de alunos em uma classe."
      ]
    },
    {
      "cell_type": "code",
      "metadata": {
        "id": "QhaN78mv6K7E",
        "outputId": "fdd2c1cd-19a0-400c-d478-84501699224a",
        "colab": {
          "base_uri": "https://localhost:8080/",
          "height": 318
        }
      },
      "source": [
        "# Verificando quantidade de alunos de cada tipo de escola\n",
        "\n",
        "sns.set_theme(style=\"whitegrid\")\n",
        "ax = sns.barplot(x=dados_presentes.TP_ESCOLA.value_counts().index, y=dados_presentes.TP_ESCOLA.value_counts(), data=dados_presentes)\n",
        "ax.set_title('Alunos por tipo de escola')\n",
        "ax.set_ylabel('Numero de alunos')\n",
        "ax.set_xlabel('Tipo de escola')\n",
        "ax.set_xticklabels(['Publica','Privada', 'Exterior'], rotation='horizontal', fontsize=10)\n"
      ],
      "execution_count": null,
      "outputs": [
        {
          "output_type": "execute_result",
          "data": {
            "text/plain": [
              "[Text(0, 0, 'Publica'), Text(0, 0, 'Privada')]"
            ]
          },
          "metadata": {
            "tags": []
          },
          "execution_count": 330
        },
        {
          "output_type": "display_data",
          "data": {
            "image/png": "[encoded data removed]",
            "text/plain": [
              "<Figure size 432x288 with 1 Axes>"
            ]
          },
          "metadata": {
            "tags": []
          }
        }
      ]
    },
    {
      "cell_type": "markdown",
      "metadata": {
        "id": "eqPPV6xYB2QN"
      },
      "source": [
        "## Comparando histograma das notas de acordo com o tipo de escola\n",
        "\n",
        "Abaixo serão comparados os histogramas para as notas de cada prova com duas linhas verticais para demonstrar a média de cada tipo de escola. Nestes histrogramas fica evidente que em nenhuma das provas aplicadas os alunos de escolas públicas conseguiram ter uma média superior aos alunos de escola privada.\n"
      ]
    },
    {
      "cell_type": "markdown",
      "metadata": {
        "id": "FT4qVO6aUVXP"
      },
      "source": [
        "### Histograma nota da prova de Ciências da Natureza\n",
        "\n",
        "\n"
      ]
    },
    {
      "cell_type": "code",
      "metadata": {
        "id": "D-9Kw8JVOdt_",
        "outputId": "f478bc1c-9472-4ca2-e597-7e2650fea0e3",
        "colab": {
          "base_uri": "https://localhost:8080/",
          "height": 427
        }
      },
      "source": [
        "dados_presentes.query(\"TP_ESCOLA == 2\")[\"NU_NOTA_CN\"].hist(bins = 40, figsize=(8, 6))\n",
        "dados_presentes.query(\"TP_ESCOLA == 3\")[\"NU_NOTA_CN\"].hist(bins = 40, figsize=(8, 6))\n",
        "plt.axvline(x=dados_presentes.query(\"TP_ESCOLA == 2\")[\"NU_NOTA_CN\"].mean(), color='r', linestyle='dashed', linewidth=2)\n",
        "plt.axvline(x=dados_presentes.query(\"TP_ESCOLA == 3\")[\"NU_NOTA_CN\"].mean(), color='g', linestyle='dashed', linewidth=2)\n",
        "plt.legend([ 'Media Publica','Media Privada','Publica','Privada'])\n",
        "plt.title('Histograma Notas Ciências da Natureza')\n",
        "plt.ylabel('Número de alunos')\n",
        "plt.xlabel('Notas Ciências da Natureza')"
      ],
      "execution_count": null,
      "outputs": [
        {
          "output_type": "execute_result",
          "data": {
            "text/plain": [
              "Text(0.5, 0, 'Notas Ciências da Natureza')"
            ]
          },
          "metadata": {
            "tags": []
          },
          "execution_count": 331
        },
        {
          "output_type": "display_data",
          "data": {
            "image/png": "[encoded data removed]",
            "text/plain": [
              "<Figure size 576x432 with 1 Axes>"
            ]
          },
          "metadata": {
            "tags": []
          }
        }
      ]
    },
    {
      "cell_type": "markdown",
      "metadata": {
        "id": "bYjSvop8VrL4"
      },
      "source": [
        "### Histograma nota da prova de Ciências Humanas\n"
      ]
    },
    {
      "cell_type": "code",
      "metadata": {
        "id": "-BfgIzg5Vp1S",
        "outputId": "6401e0dc-0f2c-4b95-bcd9-f2ef413f3734",
        "colab": {
          "base_uri": "https://localhost:8080/",
          "height": 427
        }
      },
      "source": [
        "dados_presentes.query(\"TP_ESCOLA == 2\")[\"NU_NOTA_CH\"].hist(bins = 40, figsize=(8, 6))\n",
        "dados_presentes.query(\"TP_ESCOLA == 3\")[\"NU_NOTA_CH\"].hist(bins = 40, figsize=(8, 6))\n",
        "plt.axvline(x=dados_presentes.query(\"TP_ESCOLA == 2\")[\"NU_NOTA_CH\"].mean(), color='r', linestyle='dashed', linewidth=2)\n",
        "plt.axvline(x=dados_presentes.query(\"TP_ESCOLA == 3\")[\"NU_NOTA_CH\"].mean(), color='g', linestyle='dashed', linewidth=2)\n",
        "plt.legend([ 'Media Publica','Media Privada','Publica','Privada'])\n",
        "plt.title('Histograma Notas Ciências Humanas')\n",
        "plt.ylabel('Número de alunos')\n",
        "plt.xlabel('Notas Ciências Humanas')"
      ],
      "execution_count": null,
      "outputs": [
        {
          "output_type": "execute_result",
          "data": {
            "text/plain": [
              "Text(0.5, 0, 'Notas Ciências Humanas')"
            ]
          },
          "metadata": {
            "tags": []
          },
          "execution_count": 332
        },
        {
          "output_type": "display_data",
          "data": {
            "image/png": "[encoded data removed]",
            "text/plain": [
              "<Figure size 576x432 with 1 Axes>"
            ]
          },
          "metadata": {
            "tags": []
          }
        }
      ]
    },
    {
      "cell_type": "markdown",
      "metadata": {
        "id": "iLFtVwuGV4W_"
      },
      "source": [
        "### Histograma nota da prova de Linguagens e Códigos\n"
      ]
    },
    {
      "cell_type": "code",
      "metadata": {
        "id": "QmdJK2TiV44M",
        "outputId": "f2d61ded-b5d4-4308-94e9-fb447923f13b",
        "colab": {
          "base_uri": "https://localhost:8080/",
          "height": 427
        }
      },
      "source": [
        "dados_presentes.query(\"TP_ESCOLA == 2\")[\"NU_NOTA_LC\"].hist(bins = 40, figsize=(8, 6))\n",
        "dados_presentes.query(\"TP_ESCOLA == 3\")[\"NU_NOTA_LC\"].hist(bins = 40, figsize=(8, 6))\n",
        "plt.axvline(x=dados_presentes.query(\"TP_ESCOLA == 2\")[\"NU_NOTA_LC\"].mean(), color='r', linestyle='dashed', linewidth=2)\n",
        "plt.axvline(x=dados_presentes.query(\"TP_ESCOLA == 3\")[\"NU_NOTA_LC\"].mean(), color='g', linestyle='dashed', linewidth=2)\n",
        "plt.legend([ 'Media Publica','Media Privada','Publica','Privada'])\n",
        "plt.title('Histograma Notas Linguagens e Códigos')\n",
        "plt.ylabel('Número de alunos')\n",
        "plt.xlabel('Notas Linguagens e Códigos')"
      ],
      "execution_count": null,
      "outputs": [
        {
          "output_type": "execute_result",
          "data": {
            "text/plain": [
              "Text(0.5, 0, 'Notas Linguagens e Códigos')"
            ]
          },
          "metadata": {
            "tags": []
          },
          "execution_count": 333
        },
        {
          "output_type": "display_data",
          "data": {
            "image/png": "[encoded data removed]",
            "text/plain": [
              "<Figure size 576x432 with 1 Axes>"
            ]
          },
          "metadata": {
            "tags": []
          }
        }
      ]
    },
    {
      "cell_type": "markdown",
      "metadata": {
        "id": "3fD1-w05WJJM"
      },
      "source": [
        "### Histograma nota da prova de Matemática"
      ]
    },
    {
      "cell_type": "code",
      "metadata": {
        "id": "U3_L8c03WJhn",
        "outputId": "548e4a64-513f-4700-f159-0f020c41c925",
        "colab": {
          "base_uri": "https://localhost:8080/",
          "height": 427
        }
      },
      "source": [
        "dados_presentes.query(\"TP_ESCOLA == 2\")[\"NU_NOTA_MT\"].hist(bins = 40, figsize=(8, 6))\n",
        "dados_presentes.query(\"TP_ESCOLA == 3\")[\"NU_NOTA_MT\"].hist(bins = 40, figsize=(8, 6))\n",
        "plt.axvline(x=dados_presentes.query(\"TP_ESCOLA == 2\")[\"NU_NOTA_MT\"].mean(), color='r', linestyle='dashed', linewidth=2)\n",
        "plt.axvline(x=dados_presentes.query(\"TP_ESCOLA == 3\")[\"NU_NOTA_MT\"].mean(), color='g', linestyle='dashed', linewidth=2)\n",
        "plt.legend([ 'Media Publica','Media Privada','Publica','Privada'])\n",
        "plt.title('Histograma Notas Matemática')\n",
        "plt.ylabel('Número de alunos')\n",
        "plt.xlabel('Notas Matemática')"
      ],
      "execution_count": null,
      "outputs": [
        {
          "output_type": "execute_result",
          "data": {
            "text/plain": [
              "Text(0.5, 0, 'Notas Matemática')"
            ]
          },
          "metadata": {
            "tags": []
          },
          "execution_count": 334
        },
        {
          "output_type": "display_data",
          "data": {
            "image/png": "[encoded data removed]",
            "text/plain": [
              "<Figure size 576x432 with 1 Axes>"
            ]
          },
          "metadata": {
            "tags": []
          }
        }
      ]
    },
    {
      "cell_type": "markdown",
      "metadata": {
        "id": "wQV_azI8frdw"
      },
      "source": [
        "## BoxPlot com as médias das quatro provas e redação separadas por escola pública e escola privada.\n",
        "\n",
        "Podemos visualizar que as notas de alunos de escolas privadas são superiores em todos os quesitos apresentados pelo boxplot, a máxima a mínima e também por consequencia a média. Ainda fazendo uma análise do boxplot pode-se visualizar que a escola privada tem um número muito menor de outliers(pontos de exceção) na parte superior do boxplot, ou seja, as notas médias na região de 800 pontos são muito mais frequentes em escolas privadas do que em escolas públicas."
      ]
    },
    {
      "cell_type": "code",
      "metadata": {
        "id": "L3vIKlDZWY3t",
        "outputId": "34b5c162-7391-4671-be5f-6a52d03b3b95",
        "colab": {
          "base_uri": "https://localhost:8080/",
          "height": 461
        }
      },
      "source": [
        "\n",
        "dados_presentes['MEDIA_PUBLICA'] = ((dados_presentes.query(\"TP_ESCOLA == 2\")[\"NU_NOTA_CN\"] + dados_presentes.query(\"TP_ESCOLA == 2\")[\"NU_NOTA_CH\"] + dados_presentes.query(\"TP_ESCOLA == 2\")[\"NU_NOTA_LC\"] + dados_presentes.query(\"TP_ESCOLA == 2\")[\"NU_NOTA_MT\"] + dados_presentes.query(\"TP_ESCOLA == 2\")[\"NU_NOTA_REDACAO\"]))/5\n",
        "dados_presentes['MEDIA_PRIVADA'] = (dados_presentes.query(\"TP_ESCOLA == 3\")[\"NU_NOTA_CN\"] + dados_presentes.query(\"TP_ESCOLA == 3\")[\"NU_NOTA_CH\"] + dados_presentes.query(\"TP_ESCOLA == 3\")[\"NU_NOTA_LC\"] + dados_presentes.query(\"TP_ESCOLA == 3\")[\"NU_NOTA_MT\"] + dados_presentes.query(\"TP_ESCOLA == 3\")[\"NU_NOTA_REDACAO\"])/5\n",
        "provas_boxplot =['MEDIA_PUBLICA','MEDIA_PRIVADA']\n",
        "plt.figure(figsize=(8, 6))\n",
        "sns.boxplot(data=dados_presentes[provas_boxplot])\n",
        "plt.title('Boxplot com a média das quatro provas e redação')\n",
        "plt.ylabel('Média')\n",
        "plt.xlabel('Tipo de escola')\n",
        "plt.xticks([0,1],['Escola Publica','Escola Privada'])\n"
      ],
      "execution_count": null,
      "outputs": [
        {
          "output_type": "execute_result",
          "data": {
            "text/plain": [
              "([<matplotlib.axis.XTick at 0x7f053747a0f0>,\n",
              "  <matplotlib.axis.XTick at 0x7f0537432eb8>],\n",
              " [Text(0, 0, 'Escola Publica'), Text(0, 0, 'Escola Privada')])"
            ]
          },
          "metadata": {
            "tags": []
          },
          "execution_count": 335
        },
        {
          "output_type": "display_data",
          "data": {
            "image/png": "[encoded data removed]",
            "text/plain": [
              "<Figure size 576x432 with 1 Axes>"
            ]
          },
          "metadata": {
            "tags": []
          }
        }
      ]
    },
    {
      "cell_type": "markdown",
      "metadata": {
        "id": "prCXXEM6hSS4"
      },
      "source": [
        "## Avaliando modelos para classificação de alunos em escola pública ou privada de acordo com as suas notas\n",
        "\n",
        "\n"
      ]
    },
    {
      "cell_type": "markdown",
      "metadata": {
        "id": "CLRjjm3th4GD"
      },
      "source": [
        "### Pré Processamento\n",
        "\n",
        "Agora, realizamos a normalização dos dados, a fim de acelerarmos o treinamento e teste dos modelos preditivos"
      ]
    },
    {
      "cell_type": "code",
      "metadata": {
        "id": "rV7_ulDqiuxN",
        "outputId": "42fb585d-adb7-47f6-b928-933ccefd70a9",
        "colab": {
          "base_uri": "https://localhost:8080/",
          "height": 204
        }
      },
      "source": [
        "dados_presentes.head()"
      ],
      "execution_count": null,
      "outputs": [
        {
          "output_type": "execute_result",
          "data": {
            "text/html": [
              "<div>\n",
              "<style scoped>\n",
              "    .dataframe tbody tr th:only-of-type {\n",
              "        vertical-align: middle;\n",
              "    }\n",
              "\n",
              "    .dataframe tbody tr th {\n",
              "        vertical-align: top;\n",
              "    }\n",
              "\n",
              "    .dataframe thead th {\n",
              "        text-align: right;\n",
              "    }\n",
              "</style>\n",
              "<table border=\"1\" class=\"dataframe\">\n",
              "  <thead>\n",
              "    <tr style=\"text-align: right;\">\n",
              "      <th></th>\n",
              "      <th>TP_ESCOLA</th>\n",
              "      <th>NU_NOTA_CN</th>\n",
              "      <th>NU_NOTA_CH</th>\n",
              "      <th>NU_NOTA_LC</th>\n",
              "      <th>NU_NOTA_MT</th>\n",
              "      <th>NU_NOTA_REDACAO</th>\n",
              "      <th>TP_ST_CONCLUSAO</th>\n",
              "      <th>TP_PRESENCA_CN</th>\n",
              "      <th>TP_PRESENCA_CH</th>\n",
              "      <th>TP_PRESENCA_LC</th>\n",
              "      <th>TP_PRESENCA_MT</th>\n",
              "      <th>Q006</th>\n",
              "      <th>MEDIA_PUBLICA</th>\n",
              "      <th>MEDIA_PRIVADA</th>\n",
              "    </tr>\n",
              "  </thead>\n",
              "  <tbody>\n",
              "    <tr>\n",
              "      <th>5</th>\n",
              "      <td>2</td>\n",
              "      <td>559.6</td>\n",
              "      <td>618.7</td>\n",
              "      <td>607.5</td>\n",
              "      <td>615.6</td>\n",
              "      <td>900.0</td>\n",
              "      <td>2</td>\n",
              "      <td>1</td>\n",
              "      <td>1</td>\n",
              "      <td>1</td>\n",
              "      <td>1</td>\n",
              "      <td>C</td>\n",
              "      <td>660.28</td>\n",
              "      <td>NaN</td>\n",
              "    </tr>\n",
              "    <tr>\n",
              "      <th>8</th>\n",
              "      <td>3</td>\n",
              "      <td>529.9</td>\n",
              "      <td>568.9</td>\n",
              "      <td>576.0</td>\n",
              "      <td>590.3</td>\n",
              "      <td>860.0</td>\n",
              "      <td>2</td>\n",
              "      <td>1</td>\n",
              "      <td>1</td>\n",
              "      <td>1</td>\n",
              "      <td>1</td>\n",
              "      <td>G</td>\n",
              "      <td>NaN</td>\n",
              "      <td>625.02</td>\n",
              "    </tr>\n",
              "    <tr>\n",
              "      <th>19</th>\n",
              "      <td>2</td>\n",
              "      <td>477.6</td>\n",
              "      <td>459.3</td>\n",
              "      <td>517.2</td>\n",
              "      <td>586.2</td>\n",
              "      <td>340.0</td>\n",
              "      <td>2</td>\n",
              "      <td>1</td>\n",
              "      <td>1</td>\n",
              "      <td>1</td>\n",
              "      <td>1</td>\n",
              "      <td>C</td>\n",
              "      <td>476.06</td>\n",
              "      <td>NaN</td>\n",
              "    </tr>\n",
              "    <tr>\n",
              "      <th>22</th>\n",
              "      <td>2</td>\n",
              "      <td>426.8</td>\n",
              "      <td>467.6</td>\n",
              "      <td>481.8</td>\n",
              "      <td>498.2</td>\n",
              "      <td>0.0</td>\n",
              "      <td>2</td>\n",
              "      <td>1</td>\n",
              "      <td>1</td>\n",
              "      <td>1</td>\n",
              "      <td>1</td>\n",
              "      <td>B</td>\n",
              "      <td>374.88</td>\n",
              "      <td>NaN</td>\n",
              "    </tr>\n",
              "    <tr>\n",
              "      <th>31</th>\n",
              "      <td>2</td>\n",
              "      <td>480.3</td>\n",
              "      <td>532.3</td>\n",
              "      <td>538.9</td>\n",
              "      <td>503.3</td>\n",
              "      <td>520.0</td>\n",
              "      <td>2</td>\n",
              "      <td>1</td>\n",
              "      <td>1</td>\n",
              "      <td>1</td>\n",
              "      <td>1</td>\n",
              "      <td>B</td>\n",
              "      <td>514.96</td>\n",
              "      <td>NaN</td>\n",
              "    </tr>\n",
              "  </tbody>\n",
              "</table>\n",
              "</div>"
            ],
            "text/plain": [
              "    TP_ESCOLA  NU_NOTA_CN  NU_NOTA_CH  ...  Q006  MEDIA_PUBLICA  MEDIA_PRIVADA\n",
              "5           2       559.6       618.7  ...     C         660.28            NaN\n",
              "8           3       529.9       568.9  ...     G            NaN         625.02\n",
              "19          2       477.6       459.3  ...     C         476.06            NaN\n",
              "22          2       426.8       467.6  ...     B         374.88            NaN\n",
              "31          2       480.3       532.3  ...     B         514.96            NaN\n",
              "\n",
              "[5 rows x 14 columns]"
            ]
          },
          "metadata": {
            "tags": []
          },
          "execution_count": 336
        }
      ]
    },
    {
      "cell_type": "code",
      "metadata": {
        "id": "9OjQECWbh-d-",
        "outputId": "63af3590-9494-4b04-fe26-ab0c971fd852",
        "colab": {
          "base_uri": "https://localhost:8080/",
          "height": 204
        }
      },
      "source": [
        "from sklearn.preprocessing import StandardScaler, LabelEncoder\n",
        "enc = LabelEncoder()\n",
        "dados_classificador = dados_presentes\n",
        "dados_classificador['Q006'] = enc.fit_transform(dados_classificador['Q006'])\n",
        "std_features = ['NU_NOTA_CN', 'NU_NOTA_CH', 'NU_NOTA_LC', 'NU_NOTA_MT', 'NU_NOTA_REDACAO', 'Q006' ]\n",
        "std_features_com = ['NU_NOTA_CN', 'NU_NOTA_CH', 'NU_NOTA_LC', 'NU_NOTA_MT', 'NU_NOTA_REDACAO', 'TP_ESCOLA' , 'Q006' ]\n",
        "\n",
        "std = StandardScaler()\n",
        "dados_classificador[std_features] = std.fit_transform(dados_classificador[std_features])\n",
        "dados_classificador = dados_classificador[std_features_com]\n",
        "dados_classificador.head()"
      ],
      "execution_count": null,
      "outputs": [
        {
          "output_type": "execute_result",
          "data": {
            "text/html": [
              "<div>\n",
              "<style scoped>\n",
              "    .dataframe tbody tr th:only-of-type {\n",
              "        vertical-align: middle;\n",
              "    }\n",
              "\n",
              "    .dataframe tbody tr th {\n",
              "        vertical-align: top;\n",
              "    }\n",
              "\n",
              "    .dataframe thead th {\n",
              "        text-align: right;\n",
              "    }\n",
              "</style>\n",
              "<table border=\"1\" class=\"dataframe\">\n",
              "  <thead>\n",
              "    <tr style=\"text-align: right;\">\n",
              "      <th></th>\n",
              "      <th>NU_NOTA_CN</th>\n",
              "      <th>NU_NOTA_CH</th>\n",
              "      <th>NU_NOTA_LC</th>\n",
              "      <th>NU_NOTA_MT</th>\n",
              "      <th>NU_NOTA_REDACAO</th>\n",
              "      <th>TP_ESCOLA</th>\n",
              "      <th>Q006</th>\n",
              "    </tr>\n",
              "  </thead>\n",
              "  <tbody>\n",
              "    <tr>\n",
              "      <th>5</th>\n",
              "      <td>1.134326</td>\n",
              "      <td>1.403726</td>\n",
              "      <td>1.385957</td>\n",
              "      <td>0.841284</td>\n",
              "      <td>1.668874</td>\n",
              "      <td>2</td>\n",
              "      <td>-0.514415</td>\n",
              "    </tr>\n",
              "    <tr>\n",
              "      <th>8</th>\n",
              "      <td>0.738964</td>\n",
              "      <td>0.784319</td>\n",
              "      <td>0.893168</td>\n",
              "      <td>0.607744</td>\n",
              "      <td>1.458074</td>\n",
              "      <td>3</td>\n",
              "      <td>0.592905</td>\n",
              "    </tr>\n",
              "    <tr>\n",
              "      <th>19</th>\n",
              "      <td>0.042754</td>\n",
              "      <td>-0.578875</td>\n",
              "      <td>-0.026704</td>\n",
              "      <td>0.569898</td>\n",
              "      <td>-1.282325</td>\n",
              "      <td>2</td>\n",
              "      <td>-0.514415</td>\n",
              "    </tr>\n",
              "    <tr>\n",
              "      <th>22</th>\n",
              "      <td>-0.633488</td>\n",
              "      <td>-0.475640</td>\n",
              "      <td>-0.580504</td>\n",
              "      <td>-0.242416</td>\n",
              "      <td>-3.074124</td>\n",
              "      <td>2</td>\n",
              "      <td>-0.791245</td>\n",
              "    </tr>\n",
              "    <tr>\n",
              "      <th>31</th>\n",
              "      <td>0.078696</td>\n",
              "      <td>0.329092</td>\n",
              "      <td>0.312773</td>\n",
              "      <td>-0.195339</td>\n",
              "      <td>-0.333725</td>\n",
              "      <td>2</td>\n",
              "      <td>-0.791245</td>\n",
              "    </tr>\n",
              "  </tbody>\n",
              "</table>\n",
              "</div>"
            ],
            "text/plain": [
              "    NU_NOTA_CN  NU_NOTA_CH  NU_NOTA_LC  ...  NU_NOTA_REDACAO  TP_ESCOLA      Q006\n",
              "5     1.134326    1.403726    1.385957  ...         1.668874          2 -0.514415\n",
              "8     0.738964    0.784319    0.893168  ...         1.458074          3  0.592905\n",
              "19    0.042754   -0.578875   -0.026704  ...        -1.282325          2 -0.514415\n",
              "22   -0.633488   -0.475640   -0.580504  ...        -3.074124          2 -0.791245\n",
              "31    0.078696    0.329092    0.312773  ...        -0.333725          2 -0.791245\n",
              "\n",
              "[5 rows x 7 columns]"
            ]
          },
          "metadata": {
            "tags": []
          },
          "execution_count": 350
        }
      ]
    },
    {
      "cell_type": "code",
      "metadata": {
        "id": "IOHISYDFkRqy"
      },
      "source": [
        "from sklearn.model_selection import train_test_split\n",
        "\n",
        "\n",
        "X_train, X_test, y_train, y_test = train_test_split(\n",
        "    dados_classificador.drop(['TP_ESCOLA'], axis = 1), dados_classificador.TP_ESCOLA, test_size=0.2, random_state=42\n",
        ")\n"
      ],
      "execution_count": null,
      "outputs": []
    },
    {
      "cell_type": "markdown",
      "metadata": {
        "id": "Fml3AeEMkb7E"
      },
      "source": [
        "### Classificando alunos a partir de suas notas\n",
        "\n",
        "Para o primeiro grupo de classificadores, utilizaremos as notas dos alunos, bem como sua classe de renda no questionário sócio-econômico, para classificar se o aluno é egresso de escola pública ou privada. \n",
        "\n",
        "O primeiro classificador utilizado é o KNN, que agrupa ocorrências da amostra a partir de um critério de similaridade. O hiper-parâmetro mais importante desse modelo é justamente o número de núcleos a partir dos quais o modelo realizará o agrupamento. Nesse caso, utilizamos dois núcleos, seguindo a intuição de que há dois grupos distintos no *dataset*: alunos egressos de escolas públicas e privadas.."
      ]
    },
    {
      "cell_type": "code",
      "metadata": {
        "id": "IYMpRMiLkdNR",
        "outputId": "7b4dbe57-6047-4e63-9c84-6511c2be69e2",
        "colab": {
          "base_uri": "https://localhost:8080/",
          "height": 334
        }
      },
      "source": [
        "# Instanciamos o modelo KNN com dois núcleos\n",
        "from sklearn.neighbors import KNeighborsClassifier\n",
        "knn = KNeighborsClassifier(n_neighbors=2)\n",
        "\n",
        "# Definimos uma função para treinamento e exbição dos resultados de um modelo\n",
        "def pipeline_treino_teste(model):\n",
        "    # Ajustamos o modelo\n",
        "    model.fit(X_train, y_train)\n",
        "    # Submetemos os dados de teste ao classificador \n",
        "    y_pred = model.predict(X_test)\n",
        "    \n",
        "    # E observamos algumas métricas de desempenho desse modelo: acurácia, F1-score e matriz de confusão\n",
        "    from sklearn import metrics\n",
        "    print(f'Acurácia: {metrics.accuracy_score(y_test, y_pred)}')\n",
        "    print(f'F1-score médio: {metrics.f1_score(y_test, y_pred, average=\"weighted\")}')\n",
        "    print(f\"F1-score da classe minoritária: {metrics.f1_score(y_test, y_pred, pos_label=3)}\")\n",
        "    metrics.plot_confusion_matrix(model, X_test, y_test, cmap=plt.cm.Blues, normalize='true' )\n",
        "\n",
        "# Definimos uma função para treinamento e exbição dos resultados de um modelo\n",
        "def pipeline_treino_teste_smote(model):\n",
        "    # Ajustamos o modelo\n",
        "    model.fit(X_train_smote, y_train_smote)\n",
        "    # Submetemos os dados de teste ao classificador \n",
        "    y_pred = model.predict(X_test)\n",
        "    \n",
        "    # E observamos algumas métricas de desempenho desse modelo: acurácia, F1-score e matriz de confusão\n",
        "    from sklearn import metrics\n",
        "    print(f'Acurácia: {metrics.accuracy_score(y_test, y_pred)}')\n",
        "    print(f'F1-score médio: {metrics.f1_score(y_test, y_pred, average=\"weighted\")}')\n",
        "    print(f\"F1-score da classe minoritária: {metrics.f1_score(y_test, y_pred, pos_label=3)}\")\n",
        "    metrics.plot_confusion_matrix(model, X_test, y_test, cmap=plt.cm.Blues, normalize='true' )\n",
        "    \n",
        "    \n",
        "# Agora executamos o pipeline\n",
        "pipeline_treino_teste(knn)"
      ],
      "execution_count": null,
      "outputs": [
        {
          "output_type": "stream",
          "text": [
            "Acurácia: 0.8535661340800527\n",
            "F1-score médio: 0.8305131850287487\n",
            "F1-score da classe minoritária: 0.4029550033579583\n"
          ],
          "name": "stdout"
        },
        {
          "output_type": "display_data",
          "data": {
            "image/png": "[encoded data removed]",
            "text/plain": [
              "<Figure size 432x288 with 2 Axes>"
            ]
          },
          "metadata": {
            "tags": []
          }
        }
      ]
    },
    {
      "cell_type": "code",
      "metadata": {
        "id": "nBWpZqU8k9ZM",
        "outputId": "245ab648-ed7e-4715-cbdb-e6a0994bf8d4",
        "colab": {
          "base_uri": "https://localhost:8080/",
          "height": 334
        }
      },
      "source": [
        "# Instanciamos o classificador Random Forest\n",
        "from sklearn.ensemble import RandomForestClassifier\n",
        "rf = RandomForestClassifier(class_weight=\"balanced\", n_estimators=300, random_state=42)\n",
        "\n",
        "# Executamos o pipeline de treino e teste\n",
        "pipeline_treino_teste(rf)"
      ],
      "execution_count": null,
      "outputs": [
        {
          "output_type": "stream",
          "text": [
            "Acurácia: 0.8718497776313622\n",
            "F1-score médio: 0.8609161330004108\n",
            "F1-score da classe minoritária: 0.5396449704142013\n"
          ],
          "name": "stdout"
        },
        {
          "output_type": "display_data",
          "data": {
            "image/png": "[encoded data removed]",
            "text/plain": [
              "<Figure size 432x288 with 2 Axes>"
            ]
          },
          "metadata": {
            "tags": []
          }
        }
      ]
    },
    {
      "cell_type": "code",
      "metadata": {
        "id": "dpZmihZmlOou",
        "outputId": "00280e0e-ba51-4570-e8e6-3f3bb1968f08",
        "colab": {
          "base_uri": "https://localhost:8080/",
          "height": 334
        }
      },
      "source": [
        "from xgboost import XGBClassifier\n",
        "xgb = XGBClassifier(\n",
        "    objective = 'multi:softmax',\n",
        "    booster = 'gbtree',\n",
        "    num_class = 2,\n",
        "    eval_metric = 'logloss',\n",
        "    eta = .1,\n",
        "    max_depth = 14,\n",
        "    colsample_bytree = .4,\n",
        "    n_jobs=-1\n",
        ")\n",
        "\n",
        "pipeline_treino_teste(xgb)"
      ],
      "execution_count": null,
      "outputs": [
        {
          "output_type": "stream",
          "text": [
            "Acurácia: 0.8662493823093395\n",
            "F1-score médio: 0.8550855145208397\n",
            "F1-score da classe minoritária: 0.5212264150943396\n"
          ],
          "name": "stdout"
        },
        {
          "output_type": "display_data",
          "data": {
            "image/png": "[encoded data removed]",
            "text/plain": [
              "<Figure size 432x288 with 2 Axes>"
            ]
          },
          "metadata": {
            "tags": []
          }
        }
      ]
    },
    {
      "cell_type": "markdown",
      "metadata": {
        "id": "i7EdYISco32R"
      },
      "source": [
        "### Balanceamento de classes\n",
        "\n",
        "Apesar de uma acurácia satisfatoria dos modelos podesse visualizar que a classe de escola privada esta com um acerto muito mais baixo do que a escola pública, isso se deve ao número de amostras que é muito mais alto do que em outra, uma saída possível pode ser balancear essas classes, talvez criando amostras com SMOTE. Abaixo será avaliada essa possibilidade."
      ]
    },
    {
      "cell_type": "code",
      "metadata": {
        "id": "P4hTi6dxpnI3"
      },
      "source": [
        "# SMOTE\n",
        "from imblearn.over_sampling import SMOTE\n",
        "\n"
      ],
      "execution_count": null,
      "outputs": []
    },
    {
      "cell_type": "code",
      "metadata": {
        "id": "6bmw9gGSpzBo",
        "outputId": "5182b7d9-d2a6-4980-dd78-894b01ead716",
        "colab": {
          "base_uri": "https://localhost:8080/",
          "height": 50
        }
      },
      "source": [
        "# Utilizando SMOTE para balancear as clasess de treino\n",
        "smote = SMOTE(sampling_strategy='auto',n_jobs=2)\n",
        "\n",
        "X_train_smote, y_train_smote = smote.fit_resample(X_train, y_train)\n",
        "\n"
      ],
      "execution_count": null,
      "outputs": [
        {
          "output_type": "stream",
          "text": [
            "/usr/local/lib/python3.6/dist-packages/sklearn/utils/deprecation.py:87: FutureWarning: Function safe_indexing is deprecated; safe_indexing is deprecated in version 0.22 and will be removed in version 0.24.\n",
            "  warnings.warn(msg, category=FutureWarning)\n"
          ],
          "name": "stderr"
        }
      ]
    },
    {
      "cell_type": "code",
      "metadata": {
        "id": "AHdy4Zg4qJlt",
        "outputId": "feda622f-b76b-4218-a034-f2e8b330afe9",
        "colab": {
          "base_uri": "https://localhost:8080/",
          "height": 653
        }
      },
      "source": [
        "# Executamos o pipeline de treino e testepara SMOTE\n",
        "pipeline_treino_teste(rf)\n",
        "\n",
        "pipeline_treino_teste_smote(rf)"
      ],
      "execution_count": null,
      "outputs": [
        {
          "output_type": "stream",
          "text": [
            "Acurácia: 0.8718497776313622\n",
            "F1-score médio: 0.8609161330004108\n",
            "F1-score da classe minoritária: 0.5396449704142013\n",
            "Acurácia: 0.8487893263053863\n",
            "F1-score médio: 0.8521438721164958\n",
            "F1-score da classe minoritária: 0.5742115027829313\n"
          ],
          "name": "stdout"
        },
        {
          "output_type": "display_data",
          "data": {
            "image/png": "[encoded data removed]",
            "text/plain": [
              "<Figure size 432x288 with 2 Axes>"
            ]
          },
          "metadata": {
            "tags": []
          }
        },
        {
          "output_type": "display_data",
          "data": {
            "image/png": "[encoded data removed]",
            "text/plain": [
              "<Figure size 432x288 with 2 Axes>"
            ]
          },
          "metadata": {
            "tags": []
          }
        }
      ]
    },
    {
      "cell_type": "markdown",
      "metadata": {
        "id": "MwzALnlitOwi"
      },
      "source": [
        "## Resultados\n",
        "\n",
        "Pode-se visualizar no desenvolvimento da análise que os alunos que concluíram o ensíno médio no ano de 2019 e que estudavam em escolas particulares e públicas tinham uma certa defassagem em nível de conhecimento quando comparadas as notas de suas provas e respectivas médias. Isso ficou mais evidente quando foram plotados os histogramas das provas esppecíficas e posteriormente reforçado pelo boxplot que também mostrou como os alunos de escolas privadas atingem notas muito boas ou excelentes com mais frequencia.\n",
        "\n",
        "Quanto a classificação dos alunos a partir de suas notas e sua renda, obteve de certa forma um resultado satisfatório, onde foram alcançadas acurácias médias acima de 85%, claro que a classificação da classe de escolas privadas(3) deixou a desejar, pois conforme dito anteriormente devido ao número de amostras o classificador tende a classificar a maioria das amostras como se fosse da classe com maior quantidade. Foi utilizado SMOTE para o balanceamento das amostras, esse que cria amostras sintéticas para a classe com menor número de amostras, o resultado da classificação piorou, logo as amostras criadas pelo SMOTE não conseguiu representar algo próximo da realidade. \n",
        "\n",
        "Uma continuação para este estudo seria utilizar um maior número de amostras para a classe de escola privada buscando melhorar sua classificação, outra oportunidade seria avaliar outros fatores que possam influenciar nas notas dos alunos, algo como ter internet em casa ou outros fatores que possam ser relevantes."
      ]
    }
  ]
}